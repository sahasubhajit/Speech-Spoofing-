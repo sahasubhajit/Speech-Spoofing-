{
  "nbformat": 4,
  "nbformat_minor": 0,
  "metadata": {
    "colab": {
      "provenance": [],
      "authorship_tag": "ABX9TyNVs+Im7BQUsTfVPF3ZvrXS",
      "include_colab_link": true
    },
    "kernelspec": {
      "name": "python3",
      "display_name": "Python 3"
    },
    "language_info": {
      "name": "python"
    }
  },
  "cells": [
    {
      "cell_type": "markdown",
      "metadata": {
        "id": "view-in-github",
        "colab_type": "text"
      },
      "source": [
        "<a href=\"https://colab.research.google.com/github/sahasubhajit/Speech-Spoofing-/blob/main/ml_models.ipynb\" target=\"_parent\"><img src=\"https://colab.research.google.com/assets/colab-badge.svg\" alt=\"Open In Colab\"/></a>"
      ]
    },
    {
      "cell_type": "code",
      "source": [
        "!pip install transformers\n",
        "!pip install datasets\n",
        "!pip install jiwer\n",
        "!pip install umap-learn"
      ],
      "metadata": {
        "colab": {
          "base_uri": "https://localhost:8080/"
        },
        "id": "pTh_NJkN6zpi",
        "outputId": "3a86e06f-0ac9-42a8-9d31-a0905a68115d"
      },
      "execution_count": null,
      "outputs": [
        {
          "output_type": "stream",
          "name": "stdout",
          "text": [
            "Collecting transformers\n",
            "  Downloading transformers-4.35.0-py3-none-any.whl (7.9 MB)\n",
            "\u001b[2K     \u001b[90m━━━━━━━━━━━━━━━━━━━━━━━━━━━━━━━━━━━━━━━━\u001b[0m \u001b[32m7.9/7.9 MB\u001b[0m \u001b[31m46.0 MB/s\u001b[0m eta \u001b[36m0:00:00\u001b[0m\n",
            "\u001b[?25hRequirement already satisfied: filelock in /usr/local/lib/python3.10/dist-packages (from transformers) (3.12.4)\n",
            "Collecting huggingface-hub<1.0,>=0.16.4 (from transformers)\n",
            "  Downloading huggingface_hub-0.18.0-py3-none-any.whl (301 kB)\n",
            "\u001b[2K     \u001b[90m━━━━━━━━━━━━━━━━━━━━━━━━━━━━━━━━━━━━━━━━\u001b[0m \u001b[32m302.0/302.0 kB\u001b[0m \u001b[31m24.5 MB/s\u001b[0m eta \u001b[36m0:00:00\u001b[0m\n",
            "\u001b[?25hRequirement already satisfied: numpy>=1.17 in /usr/local/lib/python3.10/dist-packages (from transformers) (1.23.5)\n",
            "Requirement already satisfied: packaging>=20.0 in /usr/local/lib/python3.10/dist-packages (from transformers) (23.2)\n",
            "Requirement already satisfied: pyyaml>=5.1 in /usr/local/lib/python3.10/dist-packages (from transformers) (6.0.1)\n",
            "Requirement already satisfied: regex!=2019.12.17 in /usr/local/lib/python3.10/dist-packages (from transformers) (2023.6.3)\n",
            "Requirement already satisfied: requests in /usr/local/lib/python3.10/dist-packages (from transformers) (2.31.0)\n",
            "Collecting tokenizers<0.15,>=0.14 (from transformers)\n",
            "  Downloading tokenizers-0.14.1-cp310-cp310-manylinux_2_17_x86_64.manylinux2014_x86_64.whl (3.8 MB)\n",
            "\u001b[2K     \u001b[90m━━━━━━━━━━━━━━━━━━━━━━━━━━━━━━━━━━━━━━━━\u001b[0m \u001b[32m3.8/3.8 MB\u001b[0m \u001b[31m79.4 MB/s\u001b[0m eta \u001b[36m0:00:00\u001b[0m\n",
            "\u001b[?25hCollecting safetensors>=0.3.1 (from transformers)\n",
            "  Downloading safetensors-0.4.0-cp310-cp310-manylinux_2_17_x86_64.manylinux2014_x86_64.whl (1.3 MB)\n",
            "\u001b[2K     \u001b[90m━━━━━━━━━━━━━━━━━━━━━━━━━━━━━━━━━━━━━━━━\u001b[0m \u001b[32m1.3/1.3 MB\u001b[0m \u001b[31m36.2 MB/s\u001b[0m eta \u001b[36m0:00:00\u001b[0m\n",
            "\u001b[?25hRequirement already satisfied: tqdm>=4.27 in /usr/local/lib/python3.10/dist-packages (from transformers) (4.66.1)\n",
            "Requirement already satisfied: fsspec>=2023.5.0 in /usr/local/lib/python3.10/dist-packages (from huggingface-hub<1.0,>=0.16.4->transformers) (2023.6.0)\n",
            "Requirement already satisfied: typing-extensions>=3.7.4.3 in /usr/local/lib/python3.10/dist-packages (from huggingface-hub<1.0,>=0.16.4->transformers) (4.5.0)\n",
            "Collecting huggingface-hub<1.0,>=0.16.4 (from transformers)\n",
            "  Downloading huggingface_hub-0.17.3-py3-none-any.whl (295 kB)\n",
            "\u001b[2K     \u001b[90m━━━━━━━━━━━━━━━━━━━━━━━━━━━━━━━━━━━━━━━━\u001b[0m \u001b[32m295.0/295.0 kB\u001b[0m \u001b[31m26.8 MB/s\u001b[0m eta \u001b[36m0:00:00\u001b[0m\n",
            "\u001b[?25hRequirement already satisfied: charset-normalizer<4,>=2 in /usr/local/lib/python3.10/dist-packages (from requests->transformers) (3.3.1)\n",
            "Requirement already satisfied: idna<4,>=2.5 in /usr/local/lib/python3.10/dist-packages (from requests->transformers) (3.4)\n",
            "Requirement already satisfied: urllib3<3,>=1.21.1 in /usr/local/lib/python3.10/dist-packages (from requests->transformers) (2.0.7)\n",
            "Requirement already satisfied: certifi>=2017.4.17 in /usr/local/lib/python3.10/dist-packages (from requests->transformers) (2023.7.22)\n",
            "Installing collected packages: safetensors, huggingface-hub, tokenizers, transformers\n",
            "Successfully installed huggingface-hub-0.17.3 safetensors-0.4.0 tokenizers-0.14.1 transformers-4.35.0\n",
            "Collecting datasets\n",
            "  Downloading datasets-2.14.6-py3-none-any.whl (493 kB)\n",
            "\u001b[2K     \u001b[90m━━━━━━━━━━━━━━━━━━━━━━━━━━━━━━━━━━━━━━━━\u001b[0m \u001b[32m493.7/493.7 kB\u001b[0m \u001b[31m4.8 MB/s\u001b[0m eta \u001b[36m0:00:00\u001b[0m\n",
            "\u001b[?25hRequirement already satisfied: numpy>=1.17 in /usr/local/lib/python3.10/dist-packages (from datasets) (1.23.5)\n",
            "Requirement already satisfied: pyarrow>=8.0.0 in /usr/local/lib/python3.10/dist-packages (from datasets) (9.0.0)\n",
            "Collecting dill<0.3.8,>=0.3.0 (from datasets)\n",
            "  Downloading dill-0.3.7-py3-none-any.whl (115 kB)\n",
            "\u001b[2K     \u001b[90m━━━━━━━━━━━━━━━━━━━━━━━━━━━━━━━━━━━━━━━━\u001b[0m \u001b[32m115.3/115.3 kB\u001b[0m \u001b[31m8.4 MB/s\u001b[0m eta \u001b[36m0:00:00\u001b[0m\n",
            "\u001b[?25hRequirement already satisfied: pandas in /usr/local/lib/python3.10/dist-packages (from datasets) (1.5.3)\n",
            "Requirement already satisfied: requests>=2.19.0 in /usr/local/lib/python3.10/dist-packages (from datasets) (2.31.0)\n",
            "Requirement already satisfied: tqdm>=4.62.1 in /usr/local/lib/python3.10/dist-packages (from datasets) (4.66.1)\n",
            "Requirement already satisfied: xxhash in /usr/local/lib/python3.10/dist-packages (from datasets) (3.4.1)\n",
            "Collecting multiprocess (from datasets)\n",
            "  Downloading multiprocess-0.70.15-py310-none-any.whl (134 kB)\n",
            "\u001b[2K     \u001b[90m━━━━━━━━━━━━━━━━━━━━━━━━━━━━━━━━━━━━━━━━\u001b[0m \u001b[32m134.8/134.8 kB\u001b[0m \u001b[31m12.0 MB/s\u001b[0m eta \u001b[36m0:00:00\u001b[0m\n",
            "\u001b[?25hRequirement already satisfied: fsspec[http]<=2023.10.0,>=2023.1.0 in /usr/local/lib/python3.10/dist-packages (from datasets) (2023.6.0)\n",
            "Requirement already satisfied: aiohttp in /usr/local/lib/python3.10/dist-packages (from datasets) (3.8.6)\n",
            "Requirement already satisfied: huggingface-hub<1.0.0,>=0.14.0 in /usr/local/lib/python3.10/dist-packages (from datasets) (0.17.3)\n",
            "Requirement already satisfied: packaging in /usr/local/lib/python3.10/dist-packages (from datasets) (23.2)\n",
            "Requirement already satisfied: pyyaml>=5.1 in /usr/local/lib/python3.10/dist-packages (from datasets) (6.0.1)\n",
            "Requirement already satisfied: attrs>=17.3.0 in /usr/local/lib/python3.10/dist-packages (from aiohttp->datasets) (23.1.0)\n",
            "Requirement already satisfied: charset-normalizer<4.0,>=2.0 in /usr/local/lib/python3.10/dist-packages (from aiohttp->datasets) (3.3.1)\n",
            "Requirement already satisfied: multidict<7.0,>=4.5 in /usr/local/lib/python3.10/dist-packages (from aiohttp->datasets) (6.0.4)\n",
            "Requirement already satisfied: async-timeout<5.0,>=4.0.0a3 in /usr/local/lib/python3.10/dist-packages (from aiohttp->datasets) (4.0.3)\n",
            "Requirement already satisfied: yarl<2.0,>=1.0 in /usr/local/lib/python3.10/dist-packages (from aiohttp->datasets) (1.9.2)\n",
            "Requirement already satisfied: frozenlist>=1.1.1 in /usr/local/lib/python3.10/dist-packages (from aiohttp->datasets) (1.4.0)\n",
            "Requirement already satisfied: aiosignal>=1.1.2 in /usr/local/lib/python3.10/dist-packages (from aiohttp->datasets) (1.3.1)\n",
            "Requirement already satisfied: filelock in /usr/local/lib/python3.10/dist-packages (from huggingface-hub<1.0.0,>=0.14.0->datasets) (3.12.4)\n",
            "Requirement already satisfied: typing-extensions>=3.7.4.3 in /usr/local/lib/python3.10/dist-packages (from huggingface-hub<1.0.0,>=0.14.0->datasets) (4.5.0)\n",
            "Requirement already satisfied: idna<4,>=2.5 in /usr/local/lib/python3.10/dist-packages (from requests>=2.19.0->datasets) (3.4)\n",
            "Requirement already satisfied: urllib3<3,>=1.21.1 in /usr/local/lib/python3.10/dist-packages (from requests>=2.19.0->datasets) (2.0.7)\n",
            "Requirement already satisfied: certifi>=2017.4.17 in /usr/local/lib/python3.10/dist-packages (from requests>=2.19.0->datasets) (2023.7.22)\n",
            "Requirement already satisfied: python-dateutil>=2.8.1 in /usr/local/lib/python3.10/dist-packages (from pandas->datasets) (2.8.2)\n",
            "Requirement already satisfied: pytz>=2020.1 in /usr/local/lib/python3.10/dist-packages (from pandas->datasets) (2023.3.post1)\n",
            "Requirement already satisfied: six>=1.5 in /usr/local/lib/python3.10/dist-packages (from python-dateutil>=2.8.1->pandas->datasets) (1.16.0)\n",
            "Installing collected packages: dill, multiprocess, datasets\n",
            "Successfully installed datasets-2.14.6 dill-0.3.7 multiprocess-0.70.15\n",
            "Collecting jiwer\n",
            "  Downloading jiwer-3.0.3-py3-none-any.whl (21 kB)\n",
            "Requirement already satisfied: click<9.0.0,>=8.1.3 in /usr/local/lib/python3.10/dist-packages (from jiwer) (8.1.7)\n",
            "Collecting rapidfuzz<4,>=3 (from jiwer)\n",
            "  Downloading rapidfuzz-3.5.2-cp310-cp310-manylinux_2_17_x86_64.manylinux2014_x86_64.whl (3.3 MB)\n",
            "\u001b[2K     \u001b[90m━━━━━━━━━━━━━━━━━━━━━━━━━━━━━━━━━━━━━━━━\u001b[0m \u001b[32m3.3/3.3 MB\u001b[0m \u001b[31m24.7 MB/s\u001b[0m eta \u001b[36m0:00:00\u001b[0m\n",
            "\u001b[?25hInstalling collected packages: rapidfuzz, jiwer\n",
            "Successfully installed jiwer-3.0.3 rapidfuzz-3.5.2\n",
            "Collecting umap-learn\n",
            "  Downloading umap-learn-0.5.4.tar.gz (90 kB)\n",
            "\u001b[2K     \u001b[90m━━━━━━━━━━━━━━━━━━━━━━━━━━━━━━━━━━━━━━━━\u001b[0m \u001b[32m90.8/90.8 kB\u001b[0m \u001b[31m2.2 MB/s\u001b[0m eta \u001b[36m0:00:00\u001b[0m\n",
            "\u001b[?25h  Preparing metadata (setup.py) ... \u001b[?25l\u001b[?25hdone\n",
            "Requirement already satisfied: numpy>=1.17 in /usr/local/lib/python3.10/dist-packages (from umap-learn) (1.23.5)\n",
            "Requirement already satisfied: scipy>=1.3.1 in /usr/local/lib/python3.10/dist-packages (from umap-learn) (1.11.3)\n",
            "Requirement already satisfied: scikit-learn>=0.22 in /usr/local/lib/python3.10/dist-packages (from umap-learn) (1.2.2)\n",
            "Requirement already satisfied: numba>=0.51.2 in /usr/local/lib/python3.10/dist-packages (from umap-learn) (0.56.4)\n",
            "Collecting pynndescent>=0.5 (from umap-learn)\n",
            "  Downloading pynndescent-0.5.10.tar.gz (1.1 MB)\n",
            "\u001b[2K     \u001b[90m━━━━━━━━━━━━━━━━━━━━━━━━━━━━━━━━━━━━━━━━\u001b[0m \u001b[32m1.1/1.1 MB\u001b[0m \u001b[31m19.3 MB/s\u001b[0m eta \u001b[36m0:00:00\u001b[0m\n",
            "\u001b[?25h  Preparing metadata (setup.py) ... \u001b[?25l\u001b[?25hdone\n",
            "Requirement already satisfied: tqdm in /usr/local/lib/python3.10/dist-packages (from umap-learn) (4.66.1)\n",
            "Requirement already satisfied: tbb>=2019.0 in /usr/local/lib/python3.10/dist-packages (from umap-learn) (2021.10.0)\n",
            "Requirement already satisfied: llvmlite<0.40,>=0.39.0dev0 in /usr/local/lib/python3.10/dist-packages (from numba>=0.51.2->umap-learn) (0.39.1)\n",
            "Requirement already satisfied: setuptools in /usr/local/lib/python3.10/dist-packages (from numba>=0.51.2->umap-learn) (67.7.2)\n",
            "Requirement already satisfied: joblib>=0.11 in /usr/local/lib/python3.10/dist-packages (from pynndescent>=0.5->umap-learn) (1.3.2)\n",
            "Requirement already satisfied: threadpoolctl>=2.0.0 in /usr/local/lib/python3.10/dist-packages (from scikit-learn>=0.22->umap-learn) (3.2.0)\n",
            "Building wheels for collected packages: umap-learn, pynndescent\n",
            "  Building wheel for umap-learn (setup.py) ... \u001b[?25l\u001b[?25hdone\n",
            "  Created wheel for umap-learn: filename=umap_learn-0.5.4-py3-none-any.whl size=86770 sha256=31fa5d46b85fbf6ef13017510449f76404ac3ee5f5bc4d2618c62801e59dfd59\n",
            "  Stored in directory: /root/.cache/pip/wheels/fb/66/29/199acf5784d0f7b8add6d466175ab45506c96e386ed5dd0633\n",
            "  Building wheel for pynndescent (setup.py) ... \u001b[?25l\u001b[?25hdone\n",
            "  Created wheel for pynndescent: filename=pynndescent-0.5.10-py3-none-any.whl size=55615 sha256=3af7229372d8ed28c05a50b779935e3d730d886125fa9d2f8225b4b1a6bf3f26\n",
            "  Stored in directory: /root/.cache/pip/wheels/4a/38/5d/f60a40a66a9512b7e5e83517ebc2d1b42d857be97d135f1096\n",
            "Successfully built umap-learn pynndescent\n",
            "Installing collected packages: pynndescent, umap-learn\n",
            "Successfully installed pynndescent-0.5.10 umap-learn-0.5.4\n"
          ]
        }
      ]
    },
    {
      "cell_type": "code",
      "execution_count": null,
      "metadata": {
        "id": "I19Jgx3h6jry"
      },
      "outputs": [],
      "source": [
        "from sklearn.metrics import accuracy_score, precision_score, recall_score, f1_score\n",
        "from sklearn.svm import SVC\n",
        "from sklearn.ensemble import RandomForestClassifier\n",
        "from sklearn.ensemble import StackingClassifier\n",
        "from sklearn.linear_model import LogisticRegression\n",
        "from sklearn.tree import DecisionTreeClassifier\n",
        "from umap import UMAP\n",
        "import joblib\n",
        "import numpy as np\n",
        "import pandas as pd\n",
        "from sklearn.model_selection import train_test_split\n",
        "from sklearn.datasets import fetch_openml\n",
        "from sklearn.preprocessing import StandardScaler\n",
        "from sklearn.neighbors import KNeighborsClassifier\n",
        "from sklearn.naive_bayes import GaussianNB\n",
        "import xgboost as xgb\n",
        "from sklearn.model_selection import GridSearchCV,  PredefinedSplit\n",
        "import matplotlib.pyplot as plt\n",
        "%matplotlib inline\n",
        "import seaborn as sns\n",
        "sns.set(style='white', context='poster')"
      ]
    },
    {
      "cell_type": "code",
      "source": [
        "def load_train_data(X_train, y_train):\n",
        "  X_train = np.array(X_train)\n",
        "  y_train = np.array(y_train)\n",
        "  return X_train, y_train\n",
        "\n",
        "def load_validation_data(X_validation, y_validation):\n",
        "  X_validation = np.array(X_validation)\n",
        "  y_validation = np.array(y_validation)\n",
        "  return X_validation, y_validation\n",
        "\n",
        "def load_test_data(X_test, y_test):\n",
        "  X_test = np.array(X_test)\n",
        "  y_test = np.array(y_test)\n",
        "  return X_test, y_test\n",
        "\n",
        "\n",
        "class MLModel:\n",
        "    def __init__(self, model_type, use_supervised_umap=False, mapper=False):\n",
        "        self.model_type = model_type\n",
        "        self.use_supervised_umap = use_supervised_umap\n",
        "        self.mapper = mapper\n",
        "\n",
        "        if self.use_supervised_umap:\n",
        "            self.umap = UMAP(n_neighbors=20, n_components=2)\n",
        "            self.scaler = StandardScaler()\n",
        "        if model_type == 'SVM':\n",
        "            self.model = SVC()\n",
        "            self.param_grid = {'C': [0.1, 1, 5], 'kernel': ['linear', 'rbf']}\n",
        "        elif model_type == 'RandomForest':\n",
        "            self.model = RandomForestClassifier()\n",
        "            self.param_grid = {'n_estimators': [50, 75, 100]}\n",
        "        elif model_type == 'KNN':\n",
        "            self.model = KNeighborsClassifier()\n",
        "            self.param_grid = {'n_neighbors': [3, 5, 7]}\n",
        "        elif model_type == 'LogisticRegression':\n",
        "            self.model = LogisticRegression()\n",
        "            self.param_grid = {'C': [0.1, 1, 5]}\n",
        "        elif model_type == 'NaiveBayes':\n",
        "            self.model = GaussianNB()\n",
        "            self.param_grid = {}\n",
        "        elif model_type == 'XGBoost':\n",
        "            self.model = xgb.XGBClassifier()\n",
        "            self.param_grid = {'max_depth': [5, 10, 15], 'learning_rate': [0.1, 0.01]}\n",
        "        elif model_type == 'DecisionTree':\n",
        "            self.model = DecisionTreeClassifier()\n",
        "            self.param_grid = {'criterion': ['gini', 'entropy'], 'max_depth': [5, 10, 15]}\n",
        "        else:\n",
        "            print(\"Unknown model name!\")\n",
        "\n",
        "\n",
        "    def reduce_dimension(self, X_train, y_train, X_val, y_val, algo_name = 'UMAP', supervised = True):\n",
        "      if algo_name == 'UMAP':\n",
        "          umap = UMAP(n_neighbors=10, n_components=2)\n",
        "\n",
        "          if supervised:\n",
        "              # Train supervised UMAP on labeled data\n",
        "              mapper = umap.fit(X_train, y_train)\n",
        "              embedding = mapper.transform(X_val)\n",
        "          else:\n",
        "              # Use unsupervised UMAP on training data\n",
        "              embedding = umap.fit_transform(X_val)\n",
        "\n",
        "          # Visualize the projection on the validation data\n",
        "          fig, ax = plt.subplots(figsize=(14, 10))\n",
        "          # For simplicity, assuming that y_val has the same number of classes as y_train\n",
        "          # You may need to adapt this if it's not the case\n",
        "          classes = [1,0]\n",
        "          colors = ['red', 'green']  # Adjust colors for more classes\n",
        "\n",
        "          for i, class_label in enumerate(classes):\n",
        "              class_indices = np.where(y_val == class_label)\n",
        "              plt.scatter(embedding[class_indices, 0], embedding[class_indices, 1], s=10, c=colors[i], label=f'Class {class_label}')\n",
        "\n",
        "          plt.legend()\n",
        "          plt.title('Dimension reduction via UMAP with Validation Data')\n",
        "          plt.show()\n",
        "\n",
        "          return embedding\n",
        "\n",
        "\n",
        "\n",
        "    def preprocess_input(self, X):\n",
        "        if self.use_supervised_umap:\n",
        "            pass\n",
        "        return X\n",
        "\n",
        "    def train(self, X_train, y_train, X_val, y_val):\n",
        "        print(\"{} is training ...\".format(self.model_type))\n",
        "        # Create the test fold for PredefinedSplit\n",
        "        train_indices = np.full(len(X_train), -1)  # -1 for training set\n",
        "        val_indices = np.full(len(X_val), 0)  # 0 for validation set\n",
        "        test_fold = np.concatenate((train_indices, val_indices))\n",
        "\n",
        "        # Set up GridSearchCV to find the best number of trees using F1 score\n",
        "        ps = PredefinedSplit(test_fold=test_fold)\n",
        "        grid_search = GridSearchCV(self.model, self.param_grid, scoring='f1', cv=ps)\n",
        "        grid_search.fit(np.vstack((X_train, X_val)), np.hstack((y_train, y_val)))\n",
        "\n",
        "        # Get the best model with the optimal number of trees\n",
        "        best_model = grid_search.best_estimator_\n",
        "\n",
        "        # Make predictions on the validation set with the best model\n",
        "        y_pred = best_model.predict(X_val)\n",
        "\n",
        "\n",
        "        # Calculate accuracy, precision, recall, and F1 score on the validation set\n",
        "        accuracy_val = accuracy_score(y_val, y_pred)\n",
        "        precision_val = precision_score(y_val, y_pred)\n",
        "        recall_val = recall_score(y_val, y_pred)\n",
        "        f1_val = f1_score(y_val, y_pred)\n",
        "        print(\"Validation Set Metrics - Accuracy: {:.4f}, Precision: {:.4f}, Recall: {:.4f}, F1: {:.4f} (Grid search has made on f1 score only)\".format(\n",
        "            accuracy_val, precision_val, recall_val, f1_val))\n",
        "\n",
        "\n",
        "        y_pred = best_model.predict(X_train)\n",
        "        # Calculate accuracy, precision, recall, and F1 score on the validation set\n",
        "        accuracy_val = accuracy_score(y_train, y_pred)\n",
        "        precision_val = precision_score(y_train, y_pred)\n",
        "        recall_val = recall_score(y_train, y_pred)\n",
        "        f1_val = f1_score(y_train, y_pred)\n",
        "        print(\"Training Set Metrics - Accuracy: {:.4f}, Precision: {:.4f}, Recall: {:.4f}, F1: {:.4f}\".format(\n",
        "            accuracy_val, precision_val, recall_val, f1_val))\n",
        "\n",
        "\n",
        "        # Get the best parameters found by grid search\n",
        "        print(\"Best parameters:\", grid_search.best_params_)\n",
        "        self.trained_model = best_model\n",
        "\n",
        "\n",
        "    def test(self, X_test, y_test):\n",
        "        try:\n",
        "          print(\"Testing {} ...\".format(self.model_type))\n",
        "\n",
        "          # Use the trained model to make predictions on the test set\n",
        "          y_pred_test = self.trained_model.predict(X_test)\n",
        "\n",
        "          # Calculate metrics on the test set\n",
        "          accuracy_test = accuracy_score(y_test, y_pred_test)\n",
        "          precision_test = precision_score(y_test, y_pred_test)\n",
        "          recall_test = recall_score(y_test, y_pred_test)\n",
        "          f1_test = f1_score(y_test, y_pred_test)\n",
        "\n",
        "          print(\"Test Set Metrics - Accuracy: {:.4f}, Precision: {:.4f}, Recall: {:.4f}, F1: {:.4f}\".format(\n",
        "              accuracy_test, precision_test, recall_test, f1_test))\n",
        "        except:\n",
        "          print(\"Fit the model first\")\n",
        "\n",
        "\n",
        "\n",
        "\"\"\"\n",
        "    def evaluate(self, X, y):\n",
        "        #if self.use_supervised_umap:\n",
        "        #    X = self.preprocess_input(X)\n",
        "        y_pred = self.model.predict(X)\n",
        "        score = f1_score(y, y_pred)\n",
        "        return score\n",
        "\n",
        "    def grid_search(self, X_train, y_train, X_validation, y_validation):\n",
        "        if not self.param_grid:\n",
        "            print(\"No hyperparameters to tune.\")\n",
        "            return\n",
        "\n",
        "        print(f\"Grid search for {self.model_type}...\")\n",
        "        ps = PredefinedSplit(test_fold=[-1] * len(X_train) + [0] * len(X_validation))  # -1 for training, 0 for validation\n",
        "        grid_search = GridSearchCV(self.model, self.param_grid, scoring='f1', cv=ps)\n",
        "        grid_search.fit(np.vstack((X_train, X_validation)), np.hstack((y_train, y_validation)))\n",
        "\n",
        "        print(\"Best parameters found:\", grid_search.best_params_)\n",
        "        self.model = grid_search.best_estimator_\n",
        "\n",
        "        validation_accuracy = f1_score(y_validation, self.model.predict(X_validation))\n",
        "        print(f\"Validation set accuracy for {self.model_type}: {validation_accuracy}\")\n",
        "\"\"\""
      ],
      "metadata": {
        "colab": {
          "base_uri": "https://localhost:8080/",
          "height": 125
        },
        "id": "J6kNPoGW7ZnJ",
        "outputId": "6d0b1f74-f790-47c9-f717-215eb79cec1f"
      },
      "execution_count": null,
      "outputs": [
        {
          "output_type": "execute_result",
          "data": {
            "text/plain": [
              "'\\n    def evaluate(self, X, y):\\n        #if self.use_supervised_umap:\\n        #    X = self.preprocess_input(X)\\n        y_pred = self.model.predict(X)\\n        score = f1_score(y, y_pred)\\n        return score\\n\\n    def grid_search(self, X_train, y_train, X_validation, y_validation):\\n        if not self.param_grid:\\n            print(\"No hyperparameters to tune.\")\\n            return\\n\\n        print(f\"Grid search for {self.model_type}...\")\\n        ps = PredefinedSplit(test_fold=[-1] * len(X_train) + [0] * len(X_validation))  # -1 for training, 0 for validation\\n        grid_search = GridSearchCV(self.model, self.param_grid, scoring=\\'f1\\', cv=ps)\\n        grid_search.fit(np.vstack((X_train, X_validation)), np.hstack((y_train, y_validation)))\\n\\n        print(\"Best parameters found:\", grid_search.best_params_)\\n        self.model = grid_search.best_estimator_\\n\\n        validation_accuracy = f1_score(y_validation, self.model.predict(X_validation))\\n        print(f\"Validation set accuracy for {self.model_type}: {validation_accuracy}\")\\n'"
            ],
            "application/vnd.google.colaboratory.intrinsic+json": {
              "type": "string"
            }
          },
          "metadata": {},
          "execution_count": 24
        }
      ]
    },
    {
      "cell_type": "code",
      "source": [
        "from google.colab import drive\n",
        "drive.mount('/content/drive')"
      ],
      "metadata": {
        "colab": {
          "base_uri": "https://localhost:8080/"
        },
        "id": "rbSVCz8XiUIC",
        "outputId": "babf01d0-2e1c-4d0e-db49-b282b2cb47c6"
      },
      "execution_count": null,
      "outputs": [
        {
          "output_type": "stream",
          "name": "stdout",
          "text": [
            "Mounted at /content/drive\n"
          ]
        }
      ]
    },
    {
      "cell_type": "code",
      "source": [
        "%cd /content/drive/MyDrive/LA"
      ],
      "metadata": {
        "colab": {
          "base_uri": "https://localhost:8080/"
        },
        "id": "u7z8mIrajEE8",
        "outputId": "bafbdded-e72e-4911-eaef-4fa409e45048"
      },
      "execution_count": null,
      "outputs": [
        {
          "output_type": "stream",
          "name": "stdout",
          "text": [
            "/content/drive/MyDrive/LA\n"
          ]
        }
      ]
    },
    {
      "cell_type": "code",
      "source": [
        "\"\"\"\n",
        "df1 = pd.read_csv(\"/content/drive/MyDrive/LA/train_1/train_1.csv\")\n",
        "df2 = pd.read_csv(\"/content/drive/MyDrive/LA/train_2/train_2.csv\")\n",
        "df3 = pd.read_csv(\"/content/drive/MyDrive/LA/train_3/train_3.csv\")\n",
        "df4 = pd.read_csv(\"/content/drive/MyDrive/LA/train_4/train_4.csv\")\n",
        "df5 = pd.read_csv(\"/content/drive/MyDrive/LA/train_5/train_5.csv\")\n",
        "df = pd.concat([df1, df2, df3, df4, df5], axis = 0)\n",
        "\"\"\"\n",
        "df = pd.read_csv(\"/content/drive/MyDrive/LA/train.csv\")\n",
        "df = df.drop('file_name', axis=1)\n",
        "df['label'] = df['label'].map({'spoof': 1, 'bonafide': 0})\n",
        "print(df.shape)\n",
        "X_train = df.iloc[:, :-1]\n",
        "y_train = df.iloc[:, -1]\n",
        "\n",
        "\"\"\"\n",
        "df1 = pd.read_csv(\"/content/drive/MyDrive/LA/eval_1/eval_1.csv\")\n",
        "df2 = pd.read_csv(\"/content/drive/MyDrive/LA/eval_2/eval_2.csv\")\n",
        "df = pd.concat([df1, df2], axis = 0)\n",
        "\"\"\"\n",
        "\n",
        "\n",
        "df = pd.read_csv(\"/content/drive/MyDrive/LA/dev.csv\")\n",
        "df = df.drop('file_name', axis=1)\n",
        "df['label'] = df['label'].map({'spoof': 1, 'bonafide': 0})\n",
        "X_val = df.iloc[:, :-1]\n",
        "y_val = df.iloc[:, -1]\n",
        "\n",
        "\n",
        "\n",
        "\n",
        "df = pd.read_csv(\"/content/drive/MyDrive/LA/eval.csv\")\n",
        "df = df.drop('file_name', axis=1)\n",
        "df['label'] = df['label'].map({'spoof': 1, 'bonafide': 0})\n",
        "X_test = df.iloc[:, :-1]\n",
        "y_test = df.iloc[:, -1]\n",
        "print(X_train.shape, X_val.shape, X_test.shape, y_train.shape, y_val.shape, y_test.shape)"
      ],
      "metadata": {
        "colab": {
          "base_uri": "https://localhost:8080/"
        },
        "id": "BIsNW-Vt8eBo",
        "outputId": "586c73a5-3385-48ba-c212-38b753cab647"
      },
      "execution_count": null,
      "outputs": [
        {
          "output_type": "stream",
          "name": "stdout",
          "text": [
            "(24215, 769)\n",
            "(24215, 768) (24844, 768) (71237, 768) (24215,) (24844,) (71237,)\n"
          ]
        }
      ]
    },
    {
      "cell_type": "code",
      "source": [
        "ml_agent = MLModel('KNN')\n",
        "#ml_agent.train(X_train, y_train, X_val, y_val)  # Set use_supervised_umap to True to use supervised UMAP\n",
        "#ml_agent.test(X_test, y_test)\n",
        "X_projection = ml_agent.reduce_dimension(X_train, y_train, X_val, y_val)"
      ],
      "metadata": {
        "id": "WEEBVGpDMdkI",
        "colab": {
          "base_uri": "https://localhost:8080/",
          "height": 891
        },
        "outputId": "db220004-7126-4c28-da4c-0b1481765ee8"
      },
      "execution_count": null,
      "outputs": [
        {
          "output_type": "display_data",
          "data": {
            "text/plain": [
              "<Figure size 1400x1000 with 1 Axes>"
            ],
            "image/png": "[encoded data removed]"
          },
          "metadata": {}
        }
      ]
    },
    {
      "cell_type": "code",
      "source": [
        "ml_agent = MLModel('KNN')\n",
        "ml_agent.train(X_train, y_train, X_val, y_val)  # Set use_supervised_umap to True to use supervised UMAP\n",
        "ml_agent.test(X_test, y_test)"
      ],
      "metadata": {
        "colab": {
          "base_uri": "https://localhost:8080/"
        },
        "id": "2agZnUzIj2bN",
        "outputId": "dc403273-2d65-4d87-8d80-03eff5c40d05"
      },
      "execution_count": null,
      "outputs": [
        {
          "output_type": "stream",
          "name": "stdout",
          "text": [
            "KNN is training ...\n"
          ]
        },
        {
          "output_type": "stream",
          "name": "stderr",
          "text": [
            "/usr/local/lib/python3.10/dist-packages/sklearn/base.py:432: UserWarning: X has feature names, but KNeighborsClassifier was fitted without feature names\n",
            "  warnings.warn(\n"
          ]
        },
        {
          "output_type": "stream",
          "name": "stdout",
          "text": [
            "Validation Set Metrics - Accuracy: 0.9086, Precision: 0.9097, Recall: 0.9971, F1: 0.9514 (Grid search has made on f1 score only)\n"
          ]
        },
        {
          "output_type": "stream",
          "name": "stderr",
          "text": [
            "/usr/local/lib/python3.10/dist-packages/sklearn/base.py:432: UserWarning: X has feature names, but KNeighborsClassifier was fitted without feature names\n",
            "  warnings.warn(\n"
          ]
        },
        {
          "output_type": "stream",
          "name": "stdout",
          "text": [
            "Training Set Metrics - Accuracy: 0.9217, Precision: 0.9213, Recall: 0.9981, F1: 0.9582\n",
            "Best parameters: {'n_neighbors': 7}\n",
            "Testing KNN ...\n"
          ]
        },
        {
          "output_type": "stream",
          "name": "stderr",
          "text": [
            "/usr/local/lib/python3.10/dist-packages/sklearn/base.py:432: UserWarning: X has feature names, but KNeighborsClassifier was fitted without feature names\n",
            "  warnings.warn(\n"
          ]
        },
        {
          "output_type": "stream",
          "name": "stdout",
          "text": [
            "Test Set Metrics - Accuracy: 0.9088, Precision: 0.9134, Recall: 0.9924, F1: 0.9513\n"
          ]
        }
      ]
    },
    {
      "cell_type": "code",
      "source": [
        "ml_agent = MLModel('RandomForest')\n",
        "ml_agent.train(X_train, y_train, X_val, y_val)  # Set use_supervised_umap to True to use supervised UMAP\n",
        "ml_agent.test(X_test, y_test)"
      ],
      "metadata": {
        "colab": {
          "base_uri": "https://localhost:8080/"
        },
        "id": "eBhWkPTCr2Jn",
        "outputId": "09ef0813-1bba-473c-8cd4-8beff9884784"
      },
      "execution_count": null,
      "outputs": [
        {
          "output_type": "stream",
          "name": "stdout",
          "text": [
            "RandomForest is training ...\n"
          ]
        },
        {
          "output_type": "stream",
          "name": "stderr",
          "text": [
            "/usr/local/lib/python3.10/dist-packages/sklearn/base.py:432: UserWarning: X has feature names, but RandomForestClassifier was fitted without feature names\n",
            "  warnings.warn(\n"
          ]
        },
        {
          "output_type": "stream",
          "name": "stdout",
          "text": [
            "Validation Set Metrics - Accuracy: 1.0000, Precision: 1.0000, Recall: 1.0000, F1: 1.0000 (Grid search has made on f1 score only)\n"
          ]
        },
        {
          "output_type": "stream",
          "name": "stderr",
          "text": [
            "/usr/local/lib/python3.10/dist-packages/sklearn/base.py:432: UserWarning: X has feature names, but RandomForestClassifier was fitted without feature names\n",
            "  warnings.warn(\n"
          ]
        },
        {
          "output_type": "stream",
          "name": "stdout",
          "text": [
            "Training Set Metrics - Accuracy: 1.0000, Precision: 1.0000, Recall: 1.0000, F1: 1.0000\n",
            "Best parameters: {'n_estimators': 100}\n",
            "Testing RandomForest ...\n"
          ]
        },
        {
          "output_type": "stream",
          "name": "stderr",
          "text": [
            "/usr/local/lib/python3.10/dist-packages/sklearn/base.py:432: UserWarning: X has feature names, but RandomForestClassifier was fitted without feature names\n",
            "  warnings.warn(\n"
          ]
        },
        {
          "output_type": "stream",
          "name": "stdout",
          "text": [
            "Test Set Metrics - Accuracy: 0.9235, Precision: 0.9293, Recall: 0.9900, F1: 0.9587\n"
          ]
        }
      ]
    },
    {
      "cell_type": "code",
      "source": [
        "ml_agent = MLModel('XGBoost')\n",
        "ml_agent.train(X_train, y_train, X_val, y_val)  # Set use_supervised_umap to True to use supervised UMAP\n",
        "ml_agent.test(X_test, y_test)"
      ],
      "metadata": {
        "colab": {
          "base_uri": "https://localhost:8080/"
        },
        "id": "yyS5G7srsAxO",
        "outputId": "6aa4a4ec-1e9a-4d41-b877-8317a6b9f0b9"
      },
      "execution_count": null,
      "outputs": [
        {
          "output_type": "stream",
          "name": "stdout",
          "text": [
            "XGBoost is training ...\n",
            "Validation Set Metrics - Accuracy: 1.0000, Precision: 1.0000, Recall: 1.0000, F1: 1.0000 (Grid search has made on f1 score only)\n",
            "Training Set Metrics - Accuracy: 1.0000, Precision: 1.0000, Recall: 1.0000, F1: 1.0000\n",
            "Best parameters: {'learning_rate': 0.1, 'max_depth': 10}\n",
            "Testing XGBoost ...\n",
            "Test Set Metrics - Accuracy: 0.9310, Precision: 0.9415, Recall: 0.9842, F1: 0.9624\n"
          ]
        }
      ]
    },
    {
      "cell_type": "code",
      "source": [
        "ml_agent = MLModel('NaiveBayes')\n",
        "ml_agent.train(X_train, y_train, X_val, y_val)  # Set use_supervised_umap to True to use supervised UMAP\n",
        "ml_agent.test(X_test, y_test)"
      ],
      "metadata": {
        "colab": {
          "base_uri": "https://localhost:8080/"
        },
        "id": "VhOVR_HGlliJ",
        "outputId": "8e300040-98a4-4668-a503-7258c2c3dcc0"
      },
      "execution_count": null,
      "outputs": [
        {
          "output_type": "stream",
          "name": "stdout",
          "text": [
            "NaiveBayes is training ...\n"
          ]
        },
        {
          "output_type": "stream",
          "name": "stderr",
          "text": [
            "/usr/local/lib/python3.10/dist-packages/sklearn/base.py:432: UserWarning: X has feature names, but GaussianNB was fitted without feature names\n",
            "  warnings.warn(\n"
          ]
        },
        {
          "output_type": "stream",
          "name": "stdout",
          "text": [
            "Validation Set Metrics - Accuracy: 0.7568, Precision: 0.9778, Recall: 0.7460, F1: 0.8463 (Grid search has made on f1 score only)\n"
          ]
        },
        {
          "output_type": "stream",
          "name": "stderr",
          "text": [
            "/usr/local/lib/python3.10/dist-packages/sklearn/base.py:432: UserWarning: X has feature names, but GaussianNB was fitted without feature names\n",
            "  warnings.warn(\n"
          ]
        },
        {
          "output_type": "stream",
          "name": "stdout",
          "text": [
            "Training Set Metrics - Accuracy: 0.7480, Precision: 0.9754, Recall: 0.7381, F1: 0.8403\n",
            "Best parameters: {}\n",
            "Testing NaiveBayes ...\n"
          ]
        },
        {
          "output_type": "stream",
          "name": "stderr",
          "text": [
            "/usr/local/lib/python3.10/dist-packages/sklearn/base.py:432: UserWarning: X has feature names, but GaussianNB was fitted without feature names\n",
            "  warnings.warn(\n"
          ]
        },
        {
          "output_type": "stream",
          "name": "stdout",
          "text": [
            "Test Set Metrics - Accuracy: 0.8704, Precision: 0.9821, Recall: 0.8714, F1: 0.9234\n"
          ]
        }
      ]
    },
    {
      "cell_type": "code",
      "source": [
        "ml_agent = MLModel('DecisionTree')\n",
        "ml_agent.train(X_train, y_train, X_val, y_val)  # Set use_supervised_umap to True to use supervised UMAP\n",
        "ml_agent.test(X_test, y_test)"
      ],
      "metadata": {
        "colab": {
          "base_uri": "https://localhost:8080/"
        },
        "id": "H2IGhbcGns5S",
        "outputId": "98966ec1-2f56-492f-b0dd-cab61ff2faa0"
      },
      "execution_count": null,
      "outputs": [
        {
          "output_type": "stream",
          "name": "stdout",
          "text": [
            "DecisionTree is training ...\n"
          ]
        },
        {
          "output_type": "stream",
          "name": "stderr",
          "text": [
            "/usr/local/lib/python3.10/dist-packages/sklearn/base.py:432: UserWarning: X has feature names, but DecisionTreeClassifier was fitted without feature names\n",
            "  warnings.warn(\n",
            "/usr/local/lib/python3.10/dist-packages/sklearn/base.py:432: UserWarning: X has feature names, but DecisionTreeClassifier was fitted without feature names\n",
            "  warnings.warn(\n",
            "/usr/local/lib/python3.10/dist-packages/sklearn/base.py:432: UserWarning: X has feature names, but DecisionTreeClassifier was fitted without feature names\n",
            "  warnings.warn(\n"
          ]
        },
        {
          "output_type": "stream",
          "name": "stdout",
          "text": [
            "Validation Set Metrics - Accuracy: 0.9021, Precision: 0.9172, Recall: 0.9794, F1: 0.9473 (Grid search has made on f1 score only)\n",
            "Training Set Metrics - Accuracy: 0.9064, Precision: 0.9236, Recall: 0.9765, F1: 0.9493\n",
            "Best parameters: {'criterion': 'entropy', 'max_depth': 5}\n",
            "Testing DecisionTree ...\n",
            "Test Set Metrics - Accuracy: 0.9169, Precision: 0.9234, Recall: 0.9895, F1: 0.9553\n"
          ]
        }
      ]
    },
    {
      "cell_type": "code",
      "source": [
        "ml_agent = MLModel('LogisticRegression')\n",
        "ml_agent.train(X_train, y_train, X_val, y_val)  # Set use_supervised_umap to True to use supervised UMAP\n",
        "ml_agent.test(X_test, y_test)"
      ],
      "metadata": {
        "colab": {
          "base_uri": "https://localhost:8080/"
        },
        "id": "KVuc4tFf809Y",
        "outputId": "224da939-7e1a-4c47-dc22-c393aeaa9c91"
      },
      "execution_count": null,
      "outputs": [
        {
          "output_type": "stream",
          "name": "stdout",
          "text": [
            "LogisticRegression is training ...\n"
          ]
        },
        {
          "output_type": "stream",
          "name": "stderr",
          "text": [
            "/usr/local/lib/python3.10/dist-packages/sklearn/linear_model/_logistic.py:458: ConvergenceWarning: lbfgs failed to converge (status=1):\n",
            "STOP: TOTAL NO. of ITERATIONS REACHED LIMIT.\n",
            "\n",
            "Increase the number of iterations (max_iter) or scale the data as shown in:\n",
            "    https://scikit-learn.org/stable/modules/preprocessing.html\n",
            "Please also refer to the documentation for alternative solver options:\n",
            "    https://scikit-learn.org/stable/modules/linear_model.html#logistic-regression\n",
            "  n_iter_i = _check_optimize_result(\n",
            "/usr/local/lib/python3.10/dist-packages/sklearn/linear_model/_logistic.py:458: ConvergenceWarning: lbfgs failed to converge (status=1):\n",
            "STOP: TOTAL NO. of ITERATIONS REACHED LIMIT.\n",
            "\n",
            "Increase the number of iterations (max_iter) or scale the data as shown in:\n",
            "    https://scikit-learn.org/stable/modules/preprocessing.html\n",
            "Please also refer to the documentation for alternative solver options:\n",
            "    https://scikit-learn.org/stable/modules/linear_model.html#logistic-regression\n",
            "  n_iter_i = _check_optimize_result(\n",
            "/usr/local/lib/python3.10/dist-packages/sklearn/linear_model/_logistic.py:458: ConvergenceWarning: lbfgs failed to converge (status=1):\n",
            "STOP: TOTAL NO. of ITERATIONS REACHED LIMIT.\n",
            "\n",
            "Increase the number of iterations (max_iter) or scale the data as shown in:\n",
            "    https://scikit-learn.org/stable/modules/preprocessing.html\n",
            "Please also refer to the documentation for alternative solver options:\n",
            "    https://scikit-learn.org/stable/modules/linear_model.html#logistic-regression\n",
            "  n_iter_i = _check_optimize_result(\n",
            "/usr/local/lib/python3.10/dist-packages/sklearn/linear_model/_logistic.py:458: ConvergenceWarning: lbfgs failed to converge (status=1):\n",
            "STOP: TOTAL NO. of ITERATIONS REACHED LIMIT.\n",
            "\n",
            "Increase the number of iterations (max_iter) or scale the data as shown in:\n",
            "    https://scikit-learn.org/stable/modules/preprocessing.html\n",
            "Please also refer to the documentation for alternative solver options:\n",
            "    https://scikit-learn.org/stable/modules/linear_model.html#logistic-regression\n",
            "  n_iter_i = _check_optimize_result(\n",
            "/usr/local/lib/python3.10/dist-packages/sklearn/base.py:432: UserWarning: X has feature names, but LogisticRegression was fitted without feature names\n",
            "  warnings.warn(\n",
            "/usr/local/lib/python3.10/dist-packages/sklearn/base.py:432: UserWarning: X has feature names, but LogisticRegression was fitted without feature names\n",
            "  warnings.warn(\n",
            "/usr/local/lib/python3.10/dist-packages/sklearn/base.py:432: UserWarning: X has feature names, but LogisticRegression was fitted without feature names\n",
            "  warnings.warn(\n"
          ]
        },
        {
          "output_type": "stream",
          "name": "stdout",
          "text": [
            "Validation Set Metrics - Accuracy: 0.9288, Precision: 0.9436, Recall: 0.9791, F1: 0.9610 (Grid search has made on f1 score only)\n",
            "Training Set Metrics - Accuracy: 0.9338, Precision: 0.9485, Recall: 0.9796, F1: 0.9638\n",
            "Best parameters: {'C': 5}\n",
            "Testing LogisticRegression ...\n",
            "Test Set Metrics - Accuracy: 0.9341, Precision: 0.9492, Recall: 0.9789, F1: 0.9638\n"
          ]
        }
      ]
    },
    {
      "cell_type": "code",
      "source": [
        "ml_agent = MLModel('SVM')\n",
        "ml_agent.train(X_train, y_train, X_val, y_val)  # Set use_supervised_umap to True to use supervised UMAP\n",
        "ml_agent.test(X_test, y_test)"
      ],
      "metadata": {
        "colab": {
          "base_uri": "https://localhost:8080/"
        },
        "id": "6QfgaxddV5od",
        "outputId": "a70adf36-f51a-4d8c-ea42-08dafc55e3db"
      },
      "execution_count": null,
      "outputs": [
        {
          "output_type": "stream",
          "name": "stdout",
          "text": [
            "SVM is training ...\n"
          ]
        },
        {
          "output_type": "stream",
          "name": "stderr",
          "text": [
            "/usr/local/lib/python3.10/dist-packages/sklearn/base.py:432: UserWarning: X has feature names, but SVC was fitted without feature names\n",
            "  warnings.warn(\n"
          ]
        },
        {
          "output_type": "stream",
          "name": "stdout",
          "text": [
            "Validation Set Metrics - Accuracy: 0.9391, Precision: 0.9465, Recall: 0.9880, F1: 0.9668 (Grid search has made on f1 score only)\n"
          ]
        },
        {
          "output_type": "stream",
          "name": "stderr",
          "text": [
            "/usr/local/lib/python3.10/dist-packages/sklearn/base.py:432: UserWarning: X has feature names, but SVC was fitted without feature names\n",
            "  warnings.warn(\n"
          ]
        },
        {
          "output_type": "stream",
          "name": "stdout",
          "text": [
            "Training Set Metrics - Accuracy: 0.9460, Precision: 0.9541, Recall: 0.9874, F1: 0.9705\n",
            "Best parameters: {'C': 5, 'kernel': 'linear'}\n",
            "Testing SVM ...\n"
          ]
        },
        {
          "output_type": "stream",
          "name": "stderr",
          "text": [
            "/usr/local/lib/python3.10/dist-packages/sklearn/base.py:432: UserWarning: X has feature names, but SVC was fitted without feature names\n",
            "  warnings.warn(\n"
          ]
        },
        {
          "output_type": "stream",
          "name": "stdout",
          "text": [
            "Test Set Metrics - Accuracy: 0.9373, Precision: 0.9516, Recall: 0.9799, F1: 0.9655\n"
          ]
        }
      ]
    },
    {
      "cell_type": "code",
      "source": [
        "\"\"\"\n",
        "df1 = pd.read_csv(\"/content/drive/MyDrive/LA/train_1/train_1.csv\")\n",
        "df2 = pd.read_csv(\"/content/drive/MyDrive/LA/train_2/train_2.csv\")\n",
        "df3 = pd.read_csv(\"/content/drive/MyDrive/LA/train_3/train_3.csv\")\n",
        "df4 = pd.read_csv(\"/content/drive/MyDrive/LA/train_4/train_4.csv\")\n",
        "df5 = pd.read_csv(\"/content/drive/MyDrive/LA/train_5/train_5.csv\")\n",
        "df = pd.concat([df1, df2, df3, df4, df5], axis = 0)\n",
        "\"\"\""
      ],
      "metadata": {
        "colab": {
          "base_uri": "https://localhost:8080/",
          "height": 52
        },
        "id": "Ae1I0qNE1fD0",
        "outputId": "323d746e-f5c2-4ffe-b191-6a18e64eb589"
      },
      "execution_count": null,
      "outputs": [
        {
          "output_type": "execute_result",
          "data": {
            "text/plain": [
              "'\\ndf1 = pd.read_csv(\"/content/drive/MyDrive/LA/train_1/train_1.csv\")\\ndf2 = pd.read_csv(\"/content/drive/MyDrive/LA/train_2/train_2.csv\")\\ndf3 = pd.read_csv(\"/content/drive/MyDrive/LA/train_3/train_3.csv\")\\ndf4 = pd.read_csv(\"/content/drive/MyDrive/LA/train_4/train_4.csv\")\\ndf5 = pd.read_csv(\"/content/drive/MyDrive/LA/train_5/train_5.csv\")\\ndf = pd.concat([df1, df2, df3, df4, df5], axis = 0)\\n'"
            ],
            "application/vnd.google.colaboratory.intrinsic+json": {
              "type": "string"
            }
          },
          "metadata": {},
          "execution_count": 14
        }
      ]
    },
    {
      "cell_type": "code",
      "source": [
        "\"\"\"\n",
        "df.head(5)\n",
        "\"\"\""
      ],
      "metadata": {
        "colab": {
          "base_uri": "https://localhost:8080/",
          "height": 35
        },
        "id": "koefo-kV1ouN",
        "outputId": "eb73fd0d-1660-4f58-c295-1f978574a105"
      },
      "execution_count": null,
      "outputs": [
        {
          "output_type": "execute_result",
          "data": {
            "text/plain": [
              "'\\ndf.head(5)\\n'"
            ],
            "application/vnd.google.colaboratory.intrinsic+json": {
              "type": "string"
            }
          },
          "metadata": {},
          "execution_count": 15
        }
      ]
    },
    {
      "cell_type": "code",
      "source": [
        "\"\"\"\n",
        "df1 = pd.read_csv(\"/content/drive/MyDrive/LA/eval_1/eval_1.csv\")\n",
        "df2 = pd.read_csv(\"/content/drive/MyDrive/LA/eval_2/eval_2.csv\")\n",
        "DF = pd.concat([df1, df2], axis = 0)\n",
        "\"\"\""
      ],
      "metadata": {
        "colab": {
          "base_uri": "https://localhost:8080/",
          "height": 35
        },
        "id": "3TTl6GCL16fn",
        "outputId": "239f1dcc-8370-4fc9-8f34-224d45bca6af"
      },
      "execution_count": null,
      "outputs": [
        {
          "output_type": "execute_result",
          "data": {
            "text/plain": [
              "'\\ndf1 = pd.read_csv(\"/content/drive/MyDrive/LA/eval_1/eval_1.csv\")\\ndf2 = pd.read_csv(\"/content/drive/MyDrive/LA/eval_2/eval_2.csv\")\\nDF = pd.concat([df1, df2], axis = 0)\\n'"
            ],
            "application/vnd.google.colaboratory.intrinsic+json": {
              "type": "string"
            }
          },
          "metadata": {},
          "execution_count": 16
        }
      ]
    },
    {
      "cell_type": "code",
      "source": [
        "\"\"\"\n",
        "DF.head(5)\n",
        "\"\"\""
      ],
      "metadata": {
        "colab": {
          "base_uri": "https://localhost:8080/",
          "height": 35
        },
        "id": "JaWvW8pM2J7l",
        "outputId": "64136b94-4c7a-4c62-ce42-9eba16c9c413"
      },
      "execution_count": null,
      "outputs": [
        {
          "output_type": "execute_result",
          "data": {
            "text/plain": [
              "'\\nDF.head(5)\\n'"
            ],
            "application/vnd.google.colaboratory.intrinsic+json": {
              "type": "string"
            }
          },
          "metadata": {},
          "execution_count": 17
        }
      ]
    },
    {
      "cell_type": "code",
      "source": [
        "\"\"\"\n",
        "duplicates = df.duplicated(subset='file_name')\n",
        "print(df[duplicates])\n",
        "\"\"\""
      ],
      "metadata": {
        "colab": {
          "base_uri": "https://localhost:8080/",
          "height": 35
        },
        "id": "3S2BPzR62Nak",
        "outputId": "eeef7fa4-53f2-44db-e180-5c2e69497954"
      },
      "execution_count": null,
      "outputs": [
        {
          "output_type": "execute_result",
          "data": {
            "text/plain": [
              "\"\\nduplicates = df.duplicated(subset='file_name')\\nprint(df[duplicates])\\n\""
            ],
            "application/vnd.google.colaboratory.intrinsic+json": {
              "type": "string"
            }
          },
          "metadata": {},
          "execution_count": 18
        }
      ]
    },
    {
      "cell_type": "code",
      "source": [
        "\"\"\"\n",
        "duplicates = DF.duplicated(subset='file_name')\n",
        "print(DF[duplicates])\n",
        "\"\"\""
      ],
      "metadata": {
        "colab": {
          "base_uri": "https://localhost:8080/",
          "height": 35
        },
        "id": "jL6mZKG523sZ",
        "outputId": "01b5b715-80f0-4762-81ac-889cd4b3a1cb"
      },
      "execution_count": null,
      "outputs": [
        {
          "output_type": "execute_result",
          "data": {
            "text/plain": [
              "\"\\nduplicates = DF.duplicated(subset='file_name')\\nprint(DF[duplicates])\\n\""
            ],
            "application/vnd.google.colaboratory.intrinsic+json": {
              "type": "string"
            }
          },
          "metadata": {},
          "execution_count": 19
        }
      ]
    },
    {
      "cell_type": "code",
      "source": [
        "\"\"\"\n",
        "result = pd.merge(df, DF, on='file_name', how='inner')\n",
        "\"\"\""
      ],
      "metadata": {
        "colab": {
          "base_uri": "https://localhost:8080/",
          "height": 35
        },
        "id": "_KMZanJ43Bp5",
        "outputId": "8d0df55a-2e0b-4eb5-a915-706baf348006"
      },
      "execution_count": null,
      "outputs": [
        {
          "output_type": "execute_result",
          "data": {
            "text/plain": [
              "\"\\nresult = pd.merge(df, DF, on='file_name', how='inner')\\n\""
            ],
            "application/vnd.google.colaboratory.intrinsic+json": {
              "type": "string"
            }
          },
          "metadata": {},
          "execution_count": 20
        }
      ]
    },
    {
      "cell_type": "code",
      "source": [
        "#result.shape"
      ],
      "metadata": {
        "id": "kpVUu_uV3Za9"
      },
      "execution_count": null,
      "outputs": []
    },
    {
      "cell_type": "code",
      "source": [
        "#df.to_csv(\"train.csv\", index = False)"
      ],
      "metadata": {
        "id": "yI-PR-dd3ige"
      },
      "execution_count": null,
      "outputs": []
    },
    {
      "cell_type": "code",
      "source": [
        "#!ls"
      ],
      "metadata": {
        "id": "6DRPX9cu3zfv"
      },
      "execution_count": null,
      "outputs": []
    }
  ]
}